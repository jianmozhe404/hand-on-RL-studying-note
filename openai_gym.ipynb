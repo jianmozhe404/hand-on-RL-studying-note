{
 "cells": [
  {
   "cell_type": "markdown",
   "metadata": {},
   "source": [
    "# Gymnasium 基础用法文档总结\n",
    "\n",
    "## 核心概念\n",
    "- **Gymnasium**：强化学习环境标准化API，提供常见环境实现（CartPole/Pendulum/Mujoco/Atari等）\n",
    "- **核心组件**：\n",
    "  - `Env` 类：描述马尔可夫决策过程（MDP）\n",
    "  - `Wrapper` 类：用于修改环境观测/奖励/行为\n",
    "\n",
    "---"
   ]
  },
  {
   "cell_type": "code",
   "execution_count": 5,
   "metadata": {},
   "outputs": [],
   "source": [
    "#初始化环境\n",
    "import gymnasium as gym\n",
    "env = gym.make('CartPole-v1')\n",
    "\n",
    "#查看所有可用的环境\n",
    "#gym.pprint_registry()"
   ]
  },
  {
   "cell_type": "code",
   "execution_count": null,
   "metadata": {},
   "outputs": [],
   "source": [
    "#与环境交互\n",
    "observation, info = env.reset(seed=0) # state == observation 新版返回值多了info\n",
    "\n",
    "episode_over = False\n",
    "while not episode_over:\n",
    "    action = env.action_space.sample()\n",
    "    observation, reward, terminated, truncated, info = env.step(action)  #terminated, truncated是bool值\n",
    "\n",
    "    episode_over = terminated or truncated\n",
    "\n",
    "env.close() #关闭环境"
   ]
  },
  {
   "cell_type": "code",
   "execution_count": null,
   "metadata": {},
   "outputs": [],
   "source": [
    "#修改环境 在不改动底层代码的前提下\n",
    "from gym.wrappers import FlattenObservation"
   ]
  }
 ],
 "metadata": {
  "kernelspec": {
   "display_name": "pytorch",
   "language": "python",
   "name": "python3"
  },
  "language_info": {
   "codemirror_mode": {
    "name": "ipython",
    "version": 3
   },
   "file_extension": ".py",
   "mimetype": "text/x-python",
   "name": "python",
   "nbconvert_exporter": "python",
   "pygments_lexer": "ipython3",
   "version": "3.8.20"
  }
 },
 "nbformat": 4,
 "nbformat_minor": 2
}
