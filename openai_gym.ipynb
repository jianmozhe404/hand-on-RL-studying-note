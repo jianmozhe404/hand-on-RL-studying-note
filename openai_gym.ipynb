{
 "cells": [
  {
   "cell_type": "code",
   "execution_count": null,
   "metadata": {},
   "outputs": [],
   "source": [
    "import gymnasium as gym\n",
    "import time\n",
    "\n",
    "# 创建经典控制环境 \"CartPole-v1\"\n",
    "env = gym.make(\"CartPole-v1\",render_mode = \"human\")  # \"human\" 表示可视化\n",
    "observation, info = env.reset()  # 初始化环境，返回初始观测和调试信息\n",
    "\n",
    "# 与环境交互 100 步\n",
    "for _ in range(100):\n",
    "    action = env.action_space.sample()  # 随机选择一个动作（仅示例）\n",
    "    observation, reward, terminated, truncated, info = env.step(action)\n",
    "    \n",
    "    # 终止条件：杆子倾斜过大或步数超过限制\n",
    "    if terminated or truncated:\n",
    "        observation, info = env.reset()  # 重置环境\n",
    "\n",
    "time.sleep(5)\n",
    "env.close()  # 关闭环境\n"
   ]
  }
 ],
 "metadata": {
  "kernelspec": {
   "display_name": "pytorch",
   "language": "python",
   "name": "python3"
  },
  "language_info": {
   "codemirror_mode": {
    "name": "ipython",
    "version": 3
   },
   "file_extension": ".py",
   "mimetype": "text/x-python",
   "name": "python",
   "nbconvert_exporter": "python",
   "pygments_lexer": "ipython3",
   "version": "3.8.20"
  }
 },
 "nbformat": 4,
 "nbformat_minor": 2
}
