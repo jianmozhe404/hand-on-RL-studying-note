{
 "cells": [
  {
   "cell_type": "markdown",
   "metadata": {},
   "source": [
    "### 7.3.1 经验回放\n",
    "在一般的有监督学习中，假设训练数据是独立同分布的，我们每次训练神经网络的时候从训练数据中随机采样一个或若干个数据来进行梯度下降，随着学习的不断进行，每一个训练数据会被使用多次。在原来的 Q-learning 算法中，每一个数据只会用来更新一次值。为了更好地将 Q-learning 和深度神经网络结合，DQN 算法采用了经验回放（experience replay）方法，具体做法为维护一个回放缓冲区，将每次从环境中采样得到的四元组数据（状态、动作、奖励、下一状态）存储到回放缓冲区中，训练 Q 网络的时候再从回放缓冲区中随机采样若干数据来进行训练。这么做可以起到以下两个作用。\n",
    "\n",
    "（1）使样本满足独立假设。在 MDP 中交互采样得到的数据本身不满足独立假设，因为这一时刻的状态和上一时刻的状态有关。非独立同分布的数据对训练神经网络有很大的影响，会使神经网络拟合到最近训练的数据上。采用经验回放可以打破样本之间的相关性，让其满足独立假设。\n",
    "\n",
    "（2）提高样本效率。每一个样本可以被使用多次，十分适合深度神经网络的梯度学习。"
   ]
  },
  {
   "cell_type": "markdown",
   "metadata": {},
   "source": [
    "![image](image/屏幕截图%202025-02-23%20185551.png)"
   ]
  },
  {
   "cell_type": "code",
   "execution_count": 7,
   "metadata": {},
   "outputs": [],
   "source": [
    "import random\n",
    "import gymnasium as gym\n",
    "import numpy as np\n",
    "import collections\n",
    "from tqdm import tqdm\n",
    "import torch\n",
    "import torch.nn.functional as F\n",
    "import matplotlib.pyplot as plt\n",
    "import rl_utils"
   ]
  },
  {
   "cell_type": "code",
   "execution_count": 8,
   "metadata": {},
   "outputs": [],
   "source": [
    "class ReplayBuffer:\n",
    "    '''\n",
    "    经验回放池\n",
    "    1. 保证数据的独立同分布\n",
    "    2. 提升样本利用效率\n",
    "    '''\n",
    "    def __init__(self,capacity):\n",
    "        self.buffer = collections.deque(maxlen=capacity) #初始化一个双端队列.\n",
    "\n",
    "    def add(self,state,action,reward,next_state,done):\n",
    "        #将数据加入buffer\n",
    "        self.buffer.append((state,action,reward,next_state,done))\n",
    "\n",
    "    def sample(self,batch_size):\n",
    "        # obtain sample form buffer, size is batch_size\n",
    "        transition = random.sample(self.buffer,batch_size)\n",
    "        #按列解包, state 数据通常是多维数据\n",
    "        state_tuple, action_tuple, reward_tuple,next_state_tuple, done_tuple = zip(*transition)\n",
    "        return np.array(state_tuple), action_tuple, reward_tuple, np.array(next_state_tuple), done_tuple\n",
    "\n",
    "    def size(self):\n",
    "        return len(self.buffer)"
   ]
  },
  {
   "cell_type": "code",
   "execution_count": 9,
   "metadata": {},
   "outputs": [],
   "source": [
    "class Qnet(torch.nn.Module):\n",
    "    ''' 只有一个隐藏层的Q网络 '''\n",
    "    def __init__(self, state_dim, hidden_dim, action_dim):\n",
    "        super(Qnet, self).__init__()\n",
    "        self.fc1 = torch.nn.Linear(state_dim, hidden_dim)\n",
    "        self.fc2 = torch.nn.Linear(hidden_dim, action_dim)\n",
    "\n",
    "    def forward(self, x):\n",
    "        x = F.relu(self.fc1(x))\n",
    "        return self.fc2(x)"
   ]
  },
  {
   "cell_type": "code",
   "execution_count": 21,
   "metadata": {},
   "outputs": [],
   "source": [
    "class DQN:\n",
    "    ''' DQN算法 '''\n",
    "    def __init__(self, state_dim, hidden_dim, action_dim, learning_rate,\n",
    "                gamma, epsilon, target_update, device):\n",
    "        self.action_dim = action_dim\n",
    "        self.q_net = Qnet(state_dim,hidden_dim,action_dim).to(device)\n",
    "        '''\n",
    "        目标网络: 由于TD误差目标持续在被优化, 为了训练的稳定性,需要延迟更新TD误差目标,\n",
    "        于是维护两个网络, 一个训练网络训练Q function, 另一个是目标网络用于延迟更新\n",
    "        '''\n",
    "        self.target_q_net = Qnet(state_dim,hidden_dim,action_dim).to(device)\n",
    "\n",
    "        #Adam优化器\n",
    "        self.optimizer = torch.optim.Adam(self.q_net.parameters(), lr=learning_rate)\n",
    "\n",
    "        self.gamma = gamma\n",
    "        self.epsilon = epsilon\n",
    "        self.target_update = target_update\n",
    "        self.count = 0\n",
    "        self.device = device\n",
    "\n",
    "    def take_action(self,state):\n",
    "        if np.random.rand() < self.epsilon:\n",
    "            action = np.random.randint(self.action_dim)\n",
    "        else:\n",
    "            #这里需要神经网络输出,不再是Q-table输出. state是一个四维向量, action是一个二维向量\n",
    "            state = torch.tensor(list([state]), dtype=torch.float).to(self.device) #向量转张量\n",
    "            action_space_tensor = self.q_net(state)\n",
    "            action_idx_tensor = np.argmax(action_space_tensor) #选出Q值大的动作(左右)\n",
    "            action = action_idx_tensor.item() #转换为整数\n",
    "        return action\n",
    "    \n",
    "    def update(self,transition_dict): #transition_dict是采样样本的参数\n",
    "        #[batch_size,states_dim]\n",
    "        states  = torch.tensor(transition_dict['states'], dtype=float).to(self.device)\n",
    "        #[batch_size,actions_dim]\n",
    "        actions = torch.tensor(transition_dict['actions']).view(-1,1).to(self.device)\n",
    "        #[batch_size,1]\n",
    "        rewards = torch.tensor(transition_dict['rewards'],dtype=float).view(-1,1).to(self.device)\n",
    "        #[batch_size,states_dim]\n",
    "        next_states = torch.tensor(transition_dict['next_states'],dtype=torch.float).to(self.device)\n",
    "        #[batch_size,1]\n",
    "        dones = torch.tensor(transition_dict['dones'],dtype=torch.float).view(-1, 1).to(self.device)\n",
    "\n",
    "        #dim=1 提取网络输出的数据, 索引是actions\n",
    "        q_values = self.q_net(states).gather(1,actions) #[batch_size,1]\n",
    "        #下一个状态的最大Q值\n",
    "        max_next_q_values = self.target_q_net(next_states).max(1)[0].view(-1,1) #[batch_size,1]\n",
    "        #计算TD误差目标\n",
    "        q_targets = rewards + self.gamma * max_next_q_values * (1 - dones)\n",
    "\n",
    "        dqn_loss = torch.mean(F.mse_loss(q_values,q_targets))\n",
    "\n",
    "        self.optimizer.zero_gard()\n",
    "        dqn_loss.backward()\n",
    "        self.optimizer.step()\n",
    "\n",
    "        if self.count % self.target_update == 0:\n",
    "            self.target_q_net.load_state_dict(self.q_net.state_dict()) #将q_net的参数 load 到target_q中\n",
    "\n",
    "        self.count += 1\n"
   ]
  },
  {
   "cell_type": "code",
   "execution_count": 22,
   "metadata": {},
   "outputs": [
    {
     "name": "stderr",
     "output_type": "stream",
     "text": [
      "Iteration 0:   0%|          | 0/50 [00:00<?, ?it/s]\n"
     ]
    },
    {
     "ename": "ValueError",
     "evalue": "expected sequence of length 4 at dim 2 (got 0)",
     "output_type": "error",
     "traceback": [
      "\u001b[1;31m---------------------------------------------------------------------------\u001b[0m",
      "\u001b[1;31mValueError\u001b[0m                                Traceback (most recent call last)",
      "Cell \u001b[1;32mIn[22], line 30\u001b[0m\n\u001b[0;32m     28\u001b[0m done \u001b[38;5;241m=\u001b[39m \u001b[38;5;28;01mFalse\u001b[39;00m\n\u001b[0;32m     29\u001b[0m \u001b[38;5;28;01mwhile\u001b[39;00m \u001b[38;5;129;01mnot\u001b[39;00m done:\n\u001b[1;32m---> 30\u001b[0m     action \u001b[38;5;241m=\u001b[39m \u001b[43magent\u001b[49m\u001b[38;5;241;43m.\u001b[39;49m\u001b[43mtake_action\u001b[49m\u001b[43m(\u001b[49m\u001b[43mstate\u001b[49m\u001b[43m)\u001b[49m\n\u001b[0;32m     31\u001b[0m     next_state, reward, done, _ \u001b[38;5;241m=\u001b[39m env\u001b[38;5;241m.\u001b[39mstep(action)\n\u001b[0;32m     32\u001b[0m     replay_buffer\u001b[38;5;241m.\u001b[39madd(state,action,reward,next_state,done)\n",
      "Cell \u001b[1;32mIn[21], line 27\u001b[0m, in \u001b[0;36mDQN.take_action\u001b[1;34m(self, state)\u001b[0m\n\u001b[0;32m     24\u001b[0m     action \u001b[38;5;241m=\u001b[39m np\u001b[38;5;241m.\u001b[39mrandom\u001b[38;5;241m.\u001b[39mrandint(\u001b[38;5;28mself\u001b[39m\u001b[38;5;241m.\u001b[39maction_dim)\n\u001b[0;32m     25\u001b[0m \u001b[38;5;28;01melse\u001b[39;00m:\n\u001b[0;32m     26\u001b[0m     \u001b[38;5;66;03m#这里需要神经网络输出,不再是Q-table输出. state是一个四维向量, action是一个二维向量\u001b[39;00m\n\u001b[1;32m---> 27\u001b[0m     state \u001b[38;5;241m=\u001b[39m \u001b[43mtorch\u001b[49m\u001b[38;5;241;43m.\u001b[39;49m\u001b[43mtensor\u001b[49m\u001b[43m(\u001b[49m\u001b[38;5;28;43mlist\u001b[39;49m\u001b[43m(\u001b[49m\u001b[43m[\u001b[49m\u001b[43mstate\u001b[49m\u001b[43m]\u001b[49m\u001b[43m)\u001b[49m\u001b[43m,\u001b[49m\u001b[43m \u001b[49m\u001b[43mdtype\u001b[49m\u001b[38;5;241;43m=\u001b[39;49m\u001b[43mtorch\u001b[49m\u001b[38;5;241;43m.\u001b[39;49m\u001b[43mfloat\u001b[49m\u001b[43m)\u001b[49m\u001b[38;5;241m.\u001b[39mto(\u001b[38;5;28mself\u001b[39m\u001b[38;5;241m.\u001b[39mdevice) \u001b[38;5;66;03m#向量转张量\u001b[39;00m\n\u001b[0;32m     28\u001b[0m     action_space_tensor \u001b[38;5;241m=\u001b[39m \u001b[38;5;28mself\u001b[39m\u001b[38;5;241m.\u001b[39mq_net(state)\n\u001b[0;32m     29\u001b[0m     action_idx_tensor \u001b[38;5;241m=\u001b[39m np\u001b[38;5;241m.\u001b[39margmax(action_space_tensor) \u001b[38;5;66;03m#选出Q值大的动作(左右)\u001b[39;00m\n",
      "\u001b[1;31mValueError\u001b[0m: expected sequence of length 4 at dim 2 (got 0)"
     ]
    }
   ],
   "source": [
    "lr = 2e-3\n",
    "num_episodes = 500\n",
    "hidden_dim = 128\n",
    "gamma = 0.98\n",
    "epsilon = 0.1\n",
    "target_update = 10\n",
    "buffer_size = 10000\n",
    "minimal_size = 64\n",
    "batch_size = 64\n",
    "device = torch.device(\"cuda\")\n",
    "\n",
    "env_name = 'CartPole-v1' #环境版本更新 TODO\n",
    "env = gym.make(env_name)  \n",
    "random.seed(0)\n",
    "np.random.seed(0)\n",
    "torch.manual_seed(0)\n",
    "replay_buffer = ReplayBuffer(buffer_size)\n",
    "state_dim = env.observation_space.shape[0]\n",
    "action_dim = env.action_space.n\n",
    "agent = DQN(state_dim,hidden_dim,action_dim,lr,gamma,epsilon,target_update,device)\n",
    "\n",
    "return_list = []\n",
    "for i in range(10):\n",
    "    with tqdm(total= int(num_episodes / 10), desc='Iteration %d' % i) as pbar:\n",
    "        for i_episode in range(int(num_episodes / 10)):\n",
    "            episode_return = 0\n",
    "            state = env.reset(seed=0) #版本更新 TODO\n",
    "            done = False\n",
    "            while not done:\n",
    "                action = agent.take_action(state)\n",
    "                next_state, reward, done, _ = env.step(action)\n",
    "                replay_buffer.add(state,action,reward,next_state,done)\n",
    "                state = next_state\n",
    "                episode_return += reward\n",
    "                # 当buffer数据的量超过一定值后,进行Q网络训练\n",
    "                if replay_buffer.size() > minimal_size:\n",
    "                    b_s, b_a, b_r, b_ns, b_d = replay_buffer.sample(batch_size)\n",
    "                    transition_dict = {\n",
    "                        'states': b_s,\n",
    "                        'actions': b_a,\n",
    "                        'next_states': b_ns,\n",
    "                        'dones': b_d\n",
    "                    }\n",
    "                    agent.update(transition_dict)\n",
    "                return_list.append(episode_return)\n",
    "                if(i_episode + 1) % 10 == 0:\n",
    "                    pbar.set_postfix({\n",
    "                        'episode': '%d' % (num_episodes / 10 * i + i_episode + 1),\n",
    "                        'return': '%.3f' % np.mean(return_list[-10:])\n",
    "                    })\n",
    "                pbar.update(1)\n",
    "\n"
   ]
  }
 ],
 "metadata": {
  "kernelspec": {
   "display_name": "pytorch",
   "language": "python",
   "name": "python3"
  },
  "language_info": {
   "codemirror_mode": {
    "name": "ipython",
    "version": 3
   },
   "file_extension": ".py",
   "mimetype": "text/x-python",
   "name": "python",
   "nbconvert_exporter": "python",
   "pygments_lexer": "ipython3",
   "version": "3.8.20"
  }
 },
 "nbformat": 4,
 "nbformat_minor": 2
}
